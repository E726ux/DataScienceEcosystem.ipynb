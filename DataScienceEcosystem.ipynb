{
 "cells": [
  {
   "cell_type": "markdown",
   "id": "028c2bb4-3dfe-41d9-a9ab-ab057c4df27f",
   "metadata": {},
   "source": [
    "# Data Science Tools and Ecosystem"
   ]
  },
  {
   "cell_type": "markdown",
   "id": "81b98c27-9761-4ef9-9499-38c2d3da8b8d",
   "metadata": {},
   "source": [
    "In this notebook, Data Science Tools and Ecosystem are summarized."
   ]
  },
  {
   "cell_type": "markdown",
   "id": "ecd0d45e-3c95-4674-850b-7758e94d2374",
   "metadata": {},
   "source": [
    "Some of the popular laguages that Data Scientists use are:\n",
    "1. Python\n",
    "2. R\n",
    "3. SQL\n",
    "4. C++\n",
    "5. Java etc..;"
   ]
  },
  {
   "cell_type": "markdown",
   "id": "85bff87c-5728-4dd1-8f5b-19b2c840870b",
   "metadata": {},
   "source": [
    "Some of the commonly used libraries used by Data Scientists include:\n",
    "1. TensorFlow,\n",
    "2. NumPy,\n",
    "3. SciPy,\n",
    "4. Pandas,\n",
    "5. Keras,\n",
    "6. SciKit-Learn,\n",
    "7. PyTorch, etc..;"
   ]
  },
  {
   "cell_type": "markdown",
   "id": "f901ee9b-2058-4059-888a-8bd66402da95",
   "metadata": {},
   "source": [
    "|Data Science Tools|\n",
    "|---|\n",
    "|TensorFlow|\n",
    "|Apache Hadoop|\n",
    "|SAS|"
   ]
  },
  {
   "cell_type": "markdown",
   "id": "80b1c6e8-9f37-4414-886e-4c838b028e71",
   "metadata": {},
   "source": [
    "### Below are a few examples of evaluating arithmetic expressions in Python."
   ]
  },
  {
   "cell_type": "code",
   "execution_count": 1,
   "id": "2c7cb91e-7bc8-455c-8c7f-ab9ddfa2c97a",
   "metadata": {},
   "outputs": [
    {
     "data": {
      "text/plain": [
       "42"
      ]
     },
     "execution_count": 1,
     "metadata": {},
     "output_type": "execute_result"
    }
   ],
   "source": [
    "#this is a common arithmetic example to multiply and then add integers\n",
    "(7*5)+7"
   ]
  },
  {
   "cell_type": "code",
   "execution_count": 3,
   "id": "46525a39-be39-4d6e-a60a-7c20bc082d40",
   "metadata": {},
   "outputs": [
    {
     "data": {
      "text/plain": [
       "2.5"
      ]
     },
     "execution_count": 3,
     "metadata": {},
     "output_type": "execute_result"
    }
   ],
   "source": [
    "#this will convert 150 hours to minutes by dividing by 60\n",
    "150/60"
   ]
  },
  {
   "cell_type": "markdown",
   "id": "4f3b2a5f-3e7b-4024-87a0-42e6f2440158",
   "metadata": {},
   "source": [
    "Here are some objectives:\n",
    "\n",
    "_Objective_\n",
    "* List popular languages for Data Science\n",
    "* List popular libraries for Data Science\n",
    "* List of Well known Data Science Tools\n",
    "* How to provide comments in the cell"
   ]
  },
  {
   "cell_type": "markdown",
   "id": "49ed8a76-9321-490b-9407-39c7db908151",
   "metadata": {},
   "source": [
    "## Author\n",
    "Ethan Ryder"
   ]
  }
 ],
 "metadata": {
  "kernelspec": {
   "display_name": "Python 3 (ipykernel)",
   "language": "python",
   "name": "python3"
  },
  "language_info": {
   "codemirror_mode": {
    "name": "ipython",
    "version": 3
   },
   "file_extension": ".py",
   "mimetype": "text/x-python",
   "name": "python",
   "nbconvert_exporter": "python",
   "pygments_lexer": "ipython3",
   "version": "3.11.9"
  }
 },
 "nbformat": 4,
 "nbformat_minor": 5
}
